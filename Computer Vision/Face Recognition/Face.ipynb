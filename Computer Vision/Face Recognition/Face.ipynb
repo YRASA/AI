{
 "cells": [
  {
   "cell_type": "code",
   "execution_count": 9,
   "metadata": {},
   "outputs": [],
   "source": [
    "# import cv2\n",
    "# image = cv2.imread('image.jpg')\n",
    "# cv2.namedWindow('image cmd')\n",
    "# cv2.imshow('image', image)\n",
    "# cv2.waitKey(0)\n",
    "# cv2.destroyAllWindows()"
   ]
  },
  {
   "cell_type": "code",
   "execution_count": 10,
   "metadata": {},
   "outputs": [],
   "source": [
    "# import cv2\n",
    "# image = cv2.imread('image.jpg')\n",
    "# face = cv2.CascadeClassifier('haarcascade_frontalface_alt.xml')\n",
    "# gray = cv2.cvtColor(image, cv2.COLOR_RGB2GRAY)\n",
    "# faces = face.detectMultiScale(gray)\n",
    "# for (x,y,w,h) in faces:\n",
    "#     cv2.rectangle(image, (x,y), (x+w, y+h), (0,255,0), 10)\n",
    "#     cv2.namedWindow('image cmd')\n",
    "#     cv2.imshow('image', image)\n",
    "#     cv2.waitKey(0)\n",
    "#     cv2.destroyAllWindows()"
   ]
  },
  {
   "cell_type": "code",
   "execution_count": null,
   "metadata": {},
   "outputs": [],
   "source": [
    "# import cv2\n",
    "# capture = cv2.VideoCapture(0)\n",
    "# cv2.namedWindow('Video')\n",
    "# while True:\n",
    "#     ret,frame = capture.read()\n",
    "#     cv2.imshow('image',frame)\n",
    "#     if cv2.waitKey(5) & 0xFF == ord('q'):\n",
    "#         break\n",
    "# capture.release()\n",
    "# cv2.destroyAllWindows()"
   ]
  },
  {
   "cell_type": "code",
   "execution_count": null,
   "metadata": {},
   "outputs": [],
   "source": [
    "import cv2\n",
    "face = cv2.CascadeClassifier('haarcascade_frontalface_alt.xml')\n",
    "capture = cv2.VideoCapture(0)\n",
    "cv2.namedWindow('Video')\n",
    "while True:\n",
    "    ret,frame = capture.read()\n",
    "    gray = cv2.cvtColor(frame,cv2.COLOR_RGB2GRAY)\n",
    "    faces = face.detectMultiScale(gray,1.1,3,0,(100,100))\n",
    "    for (x,y,w,h) in faces:\n",
    "        cv2.rectangle(frame, (x,y), (x+w,y+h), (0,255,0), 2)\n",
    "        cv2.imshow('image',frame)\n",
    "        if cv2.waitKey(5) & 0xFF == ord('q'):\n",
    "            break\n",
    "capture.release()\n",
    "cv2.destroyAllWindows()"
   ]
  }
 ],
 "metadata": {
  "kernelspec": {
   "display_name": "Python 3",
   "language": "python",
   "name": "python3"
  },
  "language_info": {
   "codemirror_mode": {
    "name": "ipython",
    "version": 3
   },
   "file_extension": ".py",
   "mimetype": "text/x-python",
   "name": "python",
   "nbconvert_exporter": "python",
   "pygments_lexer": "ipython3",
   "version": "3.7.6"
  },
  "toc": {
   "base_numbering": 1,
   "nav_menu": {},
   "number_sections": true,
   "sideBar": true,
   "skip_h1_title": false,
   "title_cell": "Table of Contents",
   "title_sidebar": "Contents",
   "toc_cell": false,
   "toc_position": {},
   "toc_section_display": true,
   "toc_window_display": false
  }
 },
 "nbformat": 4,
 "nbformat_minor": 4
}
